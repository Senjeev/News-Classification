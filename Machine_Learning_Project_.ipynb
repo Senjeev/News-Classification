{
  "cells": [
    {
      "cell_type": "code",
      "execution_count": null,
      "metadata": {
        "colab": {
          "background_save": true
        },
        "id": "6Vov7wUGWsPw"
      },
      "outputs": [],
      "source": [
        "import pandas as pd\n",
        "import numpy as np\n",
        "from sklearn.feature_extraction.text import CountVectorizer\n",
        "from sklearn.model_selection import train_test_split\n",
        "from sklearn.naive_bayes import MultinomialNB\n",
        "\n",
        "data = pd.read_csv(\"https://raw.githubusercontent.com/amankharwal/Website-data/master/bbc-news-data.csv\", sep='\\t')\n",
        "print(data.head())"
      ]
    },
    {
      "cell_type": "code",
      "execution_count": null,
      "metadata": {
        "id": "xpkDxqbcRhtS"
      },
      "outputs": [],
      "source": [
        "print(data.info())\n",
        "print(data.head())"
      ]
    },
    {
      "cell_type": "code",
      "execution_count": null,
      "metadata": {
        "colab": {
          "base_uri": "https://localhost:8080/"
        },
        "id": "m9G7YX2QMAUc",
        "outputId": "d02316e0-117d-43a6-e35f-95658d7dfd28"
      },
      "outputs": [
        {
          "name": "stdout",
          "output_type": "stream",
          "text": [
            "       category filename                             title  \\\n",
            "count      2225     2225                              2225   \n",
            "unique        5      511                              2096   \n",
            "top       sport  001.txt  Microsoft seeking spyware trojan   \n",
            "freq        511        5                                 2   \n",
            "\n",
            "                                                  content  \n",
            "count                                                2225  \n",
            "unique                                               2092  \n",
            "top      Microsoft has warned PC users to update their...  \n",
            "freq                                                    2  \n"
          ]
        }
      ],
      "source": [
        "print(data.describe(include = 'object'))"
      ]
    },
    {
      "cell_type": "code",
      "execution_count": null,
      "metadata": {
        "colab": {
          "base_uri": "https://localhost:8080/"
        },
        "id": "Z5WTte8OMTNi",
        "outputId": "bc39e76b-b3a9-4196-b0eb-93cf130b2d7a"
      },
      "outputs": [
        {
          "name": "stdout",
          "output_type": "stream",
          "text": [
            "Total observations  2225\n",
            "Total Count of Categories  5\n"
          ]
        }
      ],
      "source": [
        "print(\"Total observations \", len(data))\n",
        "print(\"Total Count of Categories \", len(data['category'].unique()))"
      ]
    },
    {
      "cell_type": "code",
      "execution_count": null,
      "metadata": {
        "colab": {
          "base_uri": "https://localhost:8080/"
        },
        "id": "1NbzbIy8XVnb",
        "outputId": "8045623e-5f78-404d-a1f1-ade9ea659efb"
      },
      "outputs": [
        {
          "data": {
            "text/plain": [
              "category    0\n",
              "filename    0\n",
              "title       0\n",
              "content     0\n",
              "dtype: int64"
            ]
          },
          "execution_count": 4,
          "metadata": {},
          "output_type": "execute_result"
        }
      ],
      "source": [
        "data.isnull().sum()"
      ]
    },
    {
      "cell_type": "code",
      "execution_count": null,
      "metadata": {
        "colab": {
          "base_uri": "https://localhost:8080/"
        },
        "id": "1b9bSYXiXfJU",
        "outputId": "9f3e8244-4533-4f06-baf2-123d2cf5e551"
      },
      "outputs": [
        {
          "data": {
            "text/plain": [
              "sport            511\n",
              "business         510\n",
              "politics         417\n",
              "tech             401\n",
              "entertainment    386\n",
              "Name: category, dtype: int64"
            ]
          },
          "execution_count": 5,
          "metadata": {},
          "output_type": "execute_result"
        }
      ],
      "source": [
        "data[\"category\"].value_counts()"
      ]
    },
    {
      "cell_type": "code",
      "execution_count": null,
      "metadata": {
        "id": "nqTl50JJVIO3"
      },
      "outputs": [],
      "source": [
        "plt.hist(data['Category'])\n",
        "plt.title(\"Histogram of Training Data Categories\")\n",
        "print(\"Tech the smallest category makes up this percentage:\", round(len(data[data['Category'] == 'tech'])/ len(data),3))\n",
        "print(\"Sport the largest category makes up this percentage:\", round(len(data[data['Category'] == 'sport'])/ len(data),3))\n",
        "categories = data['Category'].unique()"
      ]
    },
    {
      "cell_type": "code",
      "execution_count": null,
      "metadata": {
        "id": "32mGeUvnXlig"
      },
      "outputs": [],
      "source": [
        "data = data[[\"title\", \"category\"]]\n",
        "\n",
        "x = np.array(data[\"title\"])\n",
        "y = np.array(data[\"category\"])\n",
        "\n",
        "cv = CountVectorizer()\n",
        "X = cv.fit_transform(x)\n",
        "X_train, X_test, y_train, y_test = train_test_split(X, y, test_size=0.33, random_state=42)"
      ]
    },
    {
      "cell_type": "code",
      "execution_count": null,
      "metadata": {
        "colab": {
          "base_uri": "https://localhost:8080/"
        },
        "id": "xSijp6R8Xn-H",
        "outputId": "c9f2e86b-4d58-4ac5-a4e4-e93f0e085c51"
      },
      "outputs": [
        {
          "data": {
            "text/plain": [
              "MultinomialNB()"
            ]
          },
          "execution_count": 7,
          "metadata": {},
          "output_type": "execute_result"
        }
      ],
      "source": [
        "model = MultinomialNB()\n",
        "model.fit(X_train,y_train)"
      ]
    },
    {
      "cell_type": "code",
      "execution_count": null,
      "metadata": {
        "id": "0elfi590Xsxw"
      },
      "outputs": [],
      "source": [
        "user = input(\"Enter a Text: \")\n",
        "data = cv.transform([user]).toarray()\n",
        "output = model.predict(data)\n",
        "print(output)"
      ]
    }
  ],
  "metadata": {
    "colab": {
      "provenance": []
    },
    "kernelspec": {
      "display_name": "Python 3",
      "name": "python3"
    },
    "language_info": {
      "name": "python"
    }
  },
  "nbformat": 4,
  "nbformat_minor": 0
}